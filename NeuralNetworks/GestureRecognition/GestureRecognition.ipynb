{
 "cells": [
  {
   "cell_type": "markdown",
   "metadata": {
    "id": "kl_vmhlaX7Ro"
   },
   "source": [
    "# Gesture Recognition\n",
    "In this group project, you are going to build a 3D Conv model that will be able to predict the 5 gestures correctly. Please import the following libraries to get started."
   ]
  },
  {
   "cell_type": "code",
   "execution_count": 2,
   "metadata": {
    "id": "7ba2kT1cX7Rq"
   },
   "outputs": [],
   "source": [
    "import numpy as np\n",
    "import os\n",
    "#from scipy.misc import imread, imresize\n",
    "#from matplotlib.pyplot import imread, imresize\n",
    "import matplotlib.pyplot as plt\n",
    "from PIL import Image\n",
    "import datetime\n",
    "import os\n",
    "from skimage.io import imread\n",
    "from skimage.transform import resize as imresize\n",
    "import math"
   ]
  },
  {
   "cell_type": "markdown",
   "metadata": {
    "id": "eavrvPKrX7Rr"
   },
   "source": [
    "We set the random seed so that the results don't vary drastically."
   ]
  },
  {
   "cell_type": "code",
   "execution_count": 3,
   "metadata": {
    "id": "M_QylVqkX7Rs"
   },
   "outputs": [],
   "source": [
    "np.random.seed(30)\n",
    "import random as rn\n",
    "rn.seed(30)\n",
    "#from keras import backend as K\n",
    "import tensorflow as tf\n",
    "tf.random.set_seed(30)"
   ]
  },
  {
   "cell_type": "code",
   "execution_count": 4,
   "metadata": {
    "colab": {
     "base_uri": "https://localhost:8080/"
    },
    "id": "P_g9xBqBYQ4V",
    "outputId": "f8214fb3-1356-4c2a-ac72-22ac98e3c836"
   },
   "outputs": [],
   "source": [
    "## If you are using the data by mounting the google drive, use the following :\n",
    "use_google_drive = False\n",
    "\n",
    "if use_google_drive:\n",
    "  from google.colab import drive\n",
    "  drive.mount('/content/gdrive', force_remount=True)\n",
    "  root_folder = 'gdrive/My Drive/Colab Notebooks'\n",
    "else:\n",
    "  root_folder = '../../../datasets'\n",
    "\n",
    "  "
   ]
  },
  {
   "cell_type": "markdown",
   "metadata": {
    "id": "llQnsaIyX7Rt"
   },
   "source": [
    "In this block, you read the folder names for training and validation. You also set the `batch_size` here. Note that you set the batch size in such a way that you are able to use the GPU in full capacity. You keep increasing the batch size until the machine throws an error."
   ]
  },
  {
   "cell_type": "code",
   "execution_count": 5,
   "metadata": {
    "id": "g-s2N4CsX7Rt"
   },
   "outputs": [],
   "source": [
    "train_doc = np.random.permutation(open(os.path.join(root_folder, 'Project_data/train.csv')).readlines())\n",
    "val_doc = np.random.permutation(open(os.path.join(root_folder, 'Project_data/val.csv')).readlines())"
   ]
  },
  {
   "cell_type": "code",
   "execution_count": 6,
   "metadata": {
    "colab": {
     "base_uri": "https://localhost:8080/"
    },
    "id": "afAdvPfNX7Ru",
    "outputId": "36c3ce98-e572-491c-c0a1-2fd4832e355b"
   },
   "outputs": [
    {
     "data": {
      "text/plain": [
       "(663, 100)"
      ]
     },
     "execution_count": 6,
     "metadata": {},
     "output_type": "execute_result"
    }
   ],
   "source": [
    "len(train_doc), len(val_doc)\n"
   ]
  },
  {
   "cell_type": "markdown",
   "metadata": {
    "id": "C1lHlCiCX7Ry"
   },
   "source": [
    "## Generator\n",
    "This is one of the most important part of the code. The overall structure of the generator has been given. In the generator, you are going to preprocess the images as you have images of 2 different dimensions as well as create a batch of video frames. You have to experiment with `img_idx`, `y`,`z` and normalization such that you get high accuracy."
   ]
  },
  {
   "cell_type": "code",
   "execution_count": 7,
   "metadata": {
    "id": "B8BEyF5La02b"
   },
   "outputs": [],
   "source": [
    "y = 100\n",
    "z = 100\n",
    "img_idx = list(range(0,30,2))"
   ]
  },
  {
   "cell_type": "code",
   "execution_count": 8,
   "metadata": {
    "id": "WVEK7Q8DX7Ry"
   },
   "outputs": [],
   "source": [
    "def generator(source_path, folder_list, batch_size, fraction_total_data = 1.0):\n",
    "    #print( 'Source path = ', source_path, '; length folder list = ', len(folder_list) )\n",
    "    #print('batch size =', batch_size, '; fraction_size = ', math.floor(len(folder_list) * fraction_total_data), \n",
    "    #     '; total_batches = ', math.floor(len(folder_list) * fraction_total_data) // batch_size)\n",
    "    x = len(img_idx)\n",
    "    while True:\n",
    "        t = np.random.permutation(folder_list)\n",
    "        last_index = math.floor(len(t) * fraction_total_data)\n",
    "        t = t[:last_index]# Here we use a fraction of the total data\n",
    "        \n",
    "        num_batches = len(t) // batch_size\n",
    "        for batch in range(num_batches): # we iterate over the number of batches\n",
    "            video_batch = generatebatch(source_path, t, batch, batch_size, batch_size, x, y, z, img_idx)\n",
    "            yield video_batch #you yield the batch_data and the batch_labels, remember what does yield do\n",
    "\n",
    "        \n",
    "        # write the code for the remaining data points which are left after full batches\n",
    "        if len(t) % batch_size != 0:\n",
    "            video_batch = generatebatch(source_path, t, num_batches, batch_size, len(t) % batch_size, x, y, z, img_idx)\n",
    "            yield video_batch\n",
    "\n",
    "def generatebatch(source_path, t, batchnum, batch_size, size, x, y, z, img_idx):\n",
    "    batch_data = np.zeros((size,x,y,z,3)) # x is the number of images you use for each video, (y,z) is the final size of the input images and 3 is the number of channels RGB\n",
    "    batch_labels = np.zeros((size,5)) # batch_labels is the one hot representation of the output\n",
    "    for folder in range(size): # iterate over the batch_size\n",
    "        imgs = os.listdir(source_path+'/'+ t[folder + (batchnum*batch_size)].split(';')[0]) # read all the images in the folder but this order is random\n",
    "        imgs.sort()# sort the random order to a sequence\n",
    "        for idx,item in enumerate(img_idx): #  Iterate iver the frames/images of a folder to read them in\n",
    "            image = imread(source_path+'/'+ t[folder + (batchnum*batch_size)].strip().split(';')[0]+'/'+imgs[item]).astype(np.float32)\n",
    "\n",
    "            #crop the images and resize them. Note that the images are of 2 different shape \n",
    "            #and the conv3D will throw error if the inputs in a batch have different shapes\n",
    "            if image.shape == (360,360):\n",
    "                image = imresize(image, (y,z,3))\n",
    "            else:\n",
    "                image = image[:, 20:]\n",
    "                image = image[:,:-20]\n",
    "                image = imresize(image, (y,z,3))\n",
    "\n",
    "            batch_data[folder,idx,:,:,0] = image[:,:,0] / 255\n",
    "            batch_data[folder,idx,:,:,1] = image[:,:,1] / 255\n",
    "            batch_data[folder,idx,:,:,2] = image[:,:,2] / 255\n",
    "\n",
    "        batch_labels[folder, int(t[folder + (batchnum*size)].strip().split(';')[2])] = 1\n",
    "    return batch_data, batch_labels"
   ]
  },
  {
   "cell_type": "markdown",
   "metadata": {
    "id": "pW1cjlwWX7Rz"
   },
   "source": [
    "Note here that a video is represented above in the generator as (number of images, height, width, number of channels). Take this into consideration while creating the model architecture."
   ]
  },
  {
   "cell_type": "code",
   "execution_count": 9,
   "metadata": {
    "colab": {
     "base_uri": "https://localhost:8080/"
    },
    "id": "jyq14n_RX7Rz",
    "outputId": "ece3c9f2-e91f-4657-d538-589c26465322"
   },
   "outputs": [
    {
     "name": "stdout",
     "output_type": "stream",
     "text": [
      "# training sequences = 663\n",
      "# validation sequences = 100\n",
      "# epochs = 100\n"
     ]
    }
   ],
   "source": [
    "train_path = os.path.join(root_folder, 'Project_data/train')         \n",
    "val_path = os.path.join(root_folder, 'Project_data/val')     \n",
    "num_train_sequences = len(train_doc)\n",
    "print('# training sequences =', num_train_sequences)\n",
    "num_val_sequences = len(val_doc)\n",
    "print('# validation sequences =', num_val_sequences)\n",
    "num_epochs = 100\n",
    "print ('# epochs =', num_epochs)"
   ]
  },
  {
   "cell_type": "markdown",
   "metadata": {
    "id": "beBEF1UyX7R1"
   },
   "source": [
    "## Model\n",
    "Here you make the model using different functionalities that Keras provides. Remember to use `Conv3D` and `MaxPooling3D` and not `Conv2D` and `Maxpooling2D` for a 3D convolution model. You would want to use `TimeDistributed` while building a Conv2D + RNN model. Also remember that the last layer is the softmax. Design the network in such a way that the model is able to give good accuracy on the least number of parameters so that it can fit in the memory of the webcam."
   ]
  },
  {
   "cell_type": "code",
   "execution_count": 10,
   "metadata": {
    "id": "i0Gjq7p5X7R1"
   },
   "outputs": [],
   "source": [
    "from keras.models import Sequential, Model\n",
    "from keras.layers import Dense, LSTM, GRU, Flatten, TimeDistributed, Flatten, BatchNormalization, Activation, Dropout\n",
    "from keras.layers.convolutional import Conv3D, MaxPooling3D, Conv2D, MaxPooling2D\n",
    "from keras.callbacks import ModelCheckpoint, ReduceLROnPlateau, EarlyStopping\n",
    "from keras import optimizers\n",
    "from keras import losses\n",
    "from keras.regularizers import l2\n",
    "\n",
    "#write your model here\n"
   ]
  },
  {
   "cell_type": "code",
   "execution_count": 10,
   "metadata": {
    "id": "6KsEpRDfX7R2"
   },
   "outputs": [
    {
     "name": "stdout",
     "output_type": "stream",
     "text": [
      "Model: \"sequential\"\n",
      "_________________________________________________________________\n",
      "Layer (type)                 Output Shape              Param #   \n",
      "=================================================================\n",
      "conv3d (Conv3D)              (None, 15, 100, 100, 32)  800       \n",
      "_________________________________________________________________\n",
      "max_pooling3d (MaxPooling3D) (None, 7, 50, 50, 32)     0         \n",
      "_________________________________________________________________\n",
      "conv3d_1 (Conv3D)            (None, 7, 50, 50, 16)     4112      \n",
      "_________________________________________________________________\n",
      "max_pooling3d_1 (MaxPooling3 (None, 3, 25, 25, 16)     0         \n",
      "_________________________________________________________________\n",
      "conv3d_2 (Conv3D)            (None, 3, 25, 25, 8)      1032      \n",
      "_________________________________________________________________\n",
      "max_pooling3d_2 (MaxPooling3 (None, 1, 12, 12, 8)      0         \n",
      "_________________________________________________________________\n",
      "flatten (Flatten)            (None, 1152)              0         \n",
      "_________________________________________________________________\n",
      "dropout (Dropout)            (None, 1152)              0         \n",
      "_________________________________________________________________\n",
      "dense (Dense)                (None, 512)               590336    \n",
      "_________________________________________________________________\n",
      "batch_normalization (BatchNo (None, 512)               2048      \n",
      "_________________________________________________________________\n",
      "activation (Activation)      (None, 512)               0         \n",
      "_________________________________________________________________\n",
      "dropout_1 (Dropout)          (None, 512)               0         \n",
      "_________________________________________________________________\n",
      "dense_1 (Dense)              (None, 64)                32832     \n",
      "_________________________________________________________________\n",
      "batch_normalization_1 (Batch (None, 64)                256       \n",
      "_________________________________________________________________\n",
      "activation_1 (Activation)    (None, 64)                0         \n",
      "_________________________________________________________________\n",
      "dropout_2 (Dropout)          (None, 64)                0         \n",
      "_________________________________________________________________\n",
      "dense_2 (Dense)              (None, 5)                 325       \n",
      "=================================================================\n",
      "Total params: 631,741\n",
      "Trainable params: 630,589\n",
      "Non-trainable params: 1,152\n",
      "_________________________________________________________________\n"
     ]
    }
   ],
   "source": [
    "conv3dmodel = Sequential([\n",
    "    Conv3D(32, 2, padding='same', activation='relu', input_shape=(len(img_idx), y, z, 3)),\n",
    "    MaxPooling3D(),\n",
    "\n",
    "    Conv3D(16, 2, padding='same', activation='relu'),\n",
    "    MaxPooling3D(),\n",
    "    \n",
    "    Conv3D(8, 2, padding='same', activation='relu'),\n",
    "    MaxPooling3D(),\n",
    "\n",
    "    Flatten(),\n",
    "    Dropout(0.25),\n",
    "    \n",
    "    Dense(512),\n",
    "    BatchNormalization(),\n",
    "    Activation('relu'),\n",
    "    Dropout(0.25),\n",
    "    \n",
    "    Dense(64),\n",
    "    BatchNormalization(),\n",
    "    Activation('relu'),\n",
    "    Dropout(0.25),\n",
    "    \n",
    "    Dense(5, activation='softmax')\n",
    "])\n",
    "\n",
    "conv3dmodel.summary()"
   ]
  },
  {
   "cell_type": "markdown",
   "metadata": {
    "id": "2sbXapvaX7R2"
   },
   "source": [
    "Now that you have written the model, the next step is to `compile` the model. When you print the `summary` of the model, you'll see the total number of parameters you have to train."
   ]
  },
  {
   "cell_type": "code",
   "execution_count": 12,
   "metadata": {
    "colab": {
     "base_uri": "https://localhost:8080/"
    },
    "id": "9uZG-1-JX7R3",
    "outputId": "344bf534-3ee3-438e-cbbe-91b278c0560a",
    "scrolled": true
   },
   "outputs": [],
   "source": [
    "optimiser = optimizers.Adam(learning_rate=0.001, beta_1=0.5, beta_2=0.5)\n",
    "loss = losses.CategoricalCrossentropy(from_logits=False)# False indicates we have used softmax and no normalisation required\n",
    "conv3dmodel.compile(optimizer=optimiser, loss=loss, metrics=['categorical_accuracy'])"
   ]
  },
  {
   "cell_type": "markdown",
   "metadata": {
    "id": "CcvNXjayX7R3"
   },
   "source": [
    "Let us create the `train_generator` and the `val_generator` which will be used in `.fit_generator`."
   ]
  },
  {
   "cell_type": "code",
   "execution_count": 13,
   "metadata": {
    "id": "DaSaw62yX7R3"
   },
   "outputs": [],
   "source": [
    "batch_size = 25\n",
    "fraction_total_data = 1.0\n",
    "train_generator = generator(train_path, train_doc, batch_size, fraction_total_data=fraction_total_data)\n",
    "val_generator = generator(val_path, val_doc, batch_size)"
   ]
  },
  {
   "cell_type": "code",
   "execution_count": 14,
   "metadata": {
    "colab": {
     "base_uri": "https://localhost:8080/"
    },
    "id": "4c_KXal6X7R4",
    "outputId": "f00b9561-6a57-4ea9-b2c1-1853c4fb521c"
   },
   "outputs": [
    {
     "name": "stdout",
     "output_type": "stream",
     "text": [
      "WARNING:tensorflow:`period` argument is deprecated. Please use `save_freq` to specify the frequency in number of batches seen.\n"
     ]
    }
   ],
   "source": [
    "curr_dt_time = datetime.datetime.now()\n",
    "model_name = 'model_init_conv3d_full_data' + '_' + str(curr_dt_time).replace(' ','').replace(':','_') + '/'\n",
    "    \n",
    "if not os.path.exists(model_name):\n",
    "    os.mkdir(model_name)\n",
    "        \n",
    "filepath = model_name + 'model-{epoch:05d}-{loss:.5f}-{categorical_accuracy:.5f}-{val_loss:.5f}-{val_categorical_accuracy:.5f}.h5'\n",
    "\n",
    "checkpoint = ModelCheckpoint(filepath, monitor='val_loss', verbose=1, save_best_only=False, save_weights_only=False, mode='auto', period=1)\n",
    "\n",
    "LR = ReduceLROnPlateau(monitor='val_loss', factor=0.5, patience=5, min_lr=0.000001)\n",
    "\n",
    "earlystop = EarlyStopping(monitor='val_categorical_accuracy', min_delta=1e-3, patience=6, verbose=1, mode='max', restore_best_weights=True)\n",
    "\n",
    "callbacks_list = [checkpoint, LR, earlystop]"
   ]
  },
  {
   "cell_type": "markdown",
   "metadata": {
    "id": "lQK1FAW8X7R4"
   },
   "source": [
    "The `steps_per_epoch` and `validation_steps` are used by `fit_generator` to decide the number of next() calls it need to make."
   ]
  },
  {
   "cell_type": "code",
   "execution_count": 15,
   "metadata": {
    "id": "rgFMmzAeX7R4"
   },
   "outputs": [],
   "source": [
    "if ((num_train_sequences * fraction_total_data) % batch_size) == 0:\n",
    "    steps_per_epoch = int((num_train_sequences * fraction_total_data)/batch_size)\n",
    "else:\n",
    "    steps_per_epoch = ((num_train_sequences * fraction_total_data)//batch_size) + 1\n",
    "\n",
    "if (num_val_sequences % batch_size) == 0:\n",
    "    validation_steps = int(num_val_sequences/batch_size)\n",
    "else:\n",
    "    validation_steps = (num_val_sequences //batch_size) + 1"
   ]
  },
  {
   "cell_type": "markdown",
   "metadata": {
    "id": "H1NChPIgX7R4"
   },
   "source": [
    "Let us now fit the model. This will start training the model and with the help of the checkpoints, you'll be able to save the model at the end of each epoch."
   ]
  },
  {
   "cell_type": "code",
   "execution_count": 16,
   "metadata": {
    "colab": {
     "base_uri": "https://localhost:8080/"
    },
    "id": "rVvmNJsHX7R4",
    "outputId": "8c2d12c7-2dc7-4533-a187-9bdce2d2838e"
   },
   "outputs": [
    {
     "name": "stdout",
     "output_type": "stream",
     "text": [
      "WARNING:tensorflow:From <ipython-input-16-ef42bf13460e>:3: Model.fit_generator (from tensorflow.python.keras.engine.training) is deprecated and will be removed in a future version.\n",
      "Instructions for updating:\n",
      "Please use Model.fit, which supports generators.\n",
      "Epoch 1/100\n",
      "27/27 [==============================] - ETA: 0s - loss: 1.6238 - categorical_accuracy: 0.3499\n",
      "Epoch 00001: saving model to model_init_conv3d_full_data_2021-05-2914_37_14.421621/model-00001-1.62382-0.34992-1.52010-0.25000.h5\n",
      "27/27 [==============================] - 85s 3s/step - loss: 1.6238 - categorical_accuracy: 0.3499 - val_loss: 1.5201 - val_categorical_accuracy: 0.2500\n",
      "Epoch 2/100\n",
      "27/27 [==============================] - ETA: 0s - loss: 1.1912 - categorical_accuracy: 0.5385\n",
      "Epoch 00002: saving model to model_init_conv3d_full_data_2021-05-2914_37_14.421621/model-00002-1.19117-0.53846-1.41427-0.32000.h5\n",
      "27/27 [==============================] - 90s 3s/step - loss: 1.1912 - categorical_accuracy: 0.5385 - val_loss: 1.4143 - val_categorical_accuracy: 0.3200\n",
      "Epoch 3/100\n",
      "27/27 [==============================] - ETA: 0s - loss: 0.8651 - categorical_accuracy: 0.6787\n",
      "Epoch 00003: saving model to model_init_conv3d_full_data_2021-05-2914_37_14.421621/model-00003-0.86506-0.67873-1.37083-0.31000.h5\n",
      "27/27 [==============================] - 93s 3s/step - loss: 0.8651 - categorical_accuracy: 0.6787 - val_loss: 1.3708 - val_categorical_accuracy: 0.3100\n",
      "Epoch 4/100\n",
      "27/27 [==============================] - ETA: 0s - loss: 0.7229 - categorical_accuracy: 0.7345\n",
      "Epoch 00004: saving model to model_init_conv3d_full_data_2021-05-2914_37_14.421621/model-00004-0.72294-0.73454-1.31260-0.37000.h5\n",
      "27/27 [==============================] - 94s 3s/step - loss: 0.7229 - categorical_accuracy: 0.7345 - val_loss: 1.3126 - val_categorical_accuracy: 0.3700\n",
      "Epoch 5/100\n",
      "27/27 [==============================] - ETA: 0s - loss: 0.5801 - categorical_accuracy: 0.8054\n",
      "Epoch 00005: saving model to model_init_conv3d_full_data_2021-05-2914_37_14.421621/model-00005-0.58006-0.80543-1.28562-0.47000.h5\n",
      "27/27 [==============================] - 90s 3s/step - loss: 0.5801 - categorical_accuracy: 0.8054 - val_loss: 1.2856 - val_categorical_accuracy: 0.4700\n",
      "Epoch 6/100\n",
      "27/27 [==============================] - ETA: 0s - loss: 0.5352 - categorical_accuracy: 0.8205\n",
      "Epoch 00006: saving model to model_init_conv3d_full_data_2021-05-2914_37_14.421621/model-00006-0.53518-0.82051-1.18450-0.62000.h5\n",
      "27/27 [==============================] - 93s 3s/step - loss: 0.5352 - categorical_accuracy: 0.8205 - val_loss: 1.1845 - val_categorical_accuracy: 0.6200\n",
      "Epoch 7/100\n",
      "27/27 [==============================] - ETA: 0s - loss: 0.4127 - categorical_accuracy: 0.8899\n",
      "Epoch 00007: saving model to model_init_conv3d_full_data_2021-05-2914_37_14.421621/model-00007-0.41271-0.88989-1.11211-0.69000.h5\n",
      "27/27 [==============================] - 91s 3s/step - loss: 0.4127 - categorical_accuracy: 0.8899 - val_loss: 1.1121 - val_categorical_accuracy: 0.6900\n",
      "Epoch 8/100\n",
      "27/27 [==============================] - ETA: 0s - loss: 0.3766 - categorical_accuracy: 0.8884\n",
      "Epoch 00008: saving model to model_init_conv3d_full_data_2021-05-2914_37_14.421621/model-00008-0.37658-0.88839-0.89869-0.68000.h5\n",
      "27/27 [==============================] - 90s 3s/step - loss: 0.3766 - categorical_accuracy: 0.8884 - val_loss: 0.8987 - val_categorical_accuracy: 0.6800\n",
      "Epoch 9/100\n",
      "27/27 [==============================] - ETA: 0s - loss: 0.3390 - categorical_accuracy: 0.9095\n",
      "Epoch 00009: saving model to model_init_conv3d_full_data_2021-05-2914_37_14.421621/model-00009-0.33899-0.90950-0.85562-0.67000.h5\n",
      "27/27 [==============================] - 84s 3s/step - loss: 0.3390 - categorical_accuracy: 0.9095 - val_loss: 0.8556 - val_categorical_accuracy: 0.6700\n",
      "Epoch 10/100\n",
      "27/27 [==============================] - ETA: 0s - loss: 0.3313 - categorical_accuracy: 0.9095\n",
      "Epoch 00010: saving model to model_init_conv3d_full_data_2021-05-2914_37_14.421621/model-00010-0.33133-0.90950-1.04085-0.57000.h5\n",
      "27/27 [==============================] - 87s 3s/step - loss: 0.3313 - categorical_accuracy: 0.9095 - val_loss: 1.0409 - val_categorical_accuracy: 0.5700\n",
      "Epoch 11/100\n",
      "27/27 [==============================] - ETA: 0s - loss: 0.3010 - categorical_accuracy: 0.9216\n",
      "Epoch 00011: saving model to model_init_conv3d_full_data_2021-05-2914_37_14.421621/model-00011-0.30098-0.92157-0.80078-0.65000.h5\n",
      "27/27 [==============================] - 90s 3s/step - loss: 0.3010 - categorical_accuracy: 0.9216 - val_loss: 0.8008 - val_categorical_accuracy: 0.6500\n",
      "Epoch 12/100\n",
      "27/27 [==============================] - ETA: 0s - loss: 0.2574 - categorical_accuracy: 0.9382\n",
      "Epoch 00012: saving model to model_init_conv3d_full_data_2021-05-2914_37_14.421621/model-00012-0.25744-0.93816-0.63786-0.74000.h5\n",
      "27/27 [==============================] - 90s 3s/step - loss: 0.2574 - categorical_accuracy: 0.9382 - val_loss: 0.6379 - val_categorical_accuracy: 0.7400\n",
      "Epoch 13/100\n",
      "27/27 [==============================] - ETA: 0s - loss: 0.2580 - categorical_accuracy: 0.9291\n",
      "Epoch 00013: saving model to model_init_conv3d_full_data_2021-05-2914_37_14.421621/model-00013-0.25799-0.92911-0.48741-0.86000.h5\n",
      "27/27 [==============================] - 87s 3s/step - loss: 0.2580 - categorical_accuracy: 0.9291 - val_loss: 0.4874 - val_categorical_accuracy: 0.8600\n",
      "Epoch 14/100\n",
      "27/27 [==============================] - ETA: 0s - loss: 0.2414 - categorical_accuracy: 0.9412\n",
      "Epoch 00014: saving model to model_init_conv3d_full_data_2021-05-2914_37_14.421621/model-00014-0.24141-0.94118-0.50834-0.79000.h5\n",
      "27/27 [==============================] - 91s 3s/step - loss: 0.2414 - categorical_accuracy: 0.9412 - val_loss: 0.5083 - val_categorical_accuracy: 0.7900\n",
      "Epoch 15/100\n",
      "27/27 [==============================] - ETA: 0s - loss: 0.2346 - categorical_accuracy: 0.9487\n",
      "Epoch 00015: saving model to model_init_conv3d_full_data_2021-05-2914_37_14.421621/model-00015-0.23456-0.94872-0.46643-0.85000.h5\n",
      "27/27 [==============================] - 90s 3s/step - loss: 0.2346 - categorical_accuracy: 0.9487 - val_loss: 0.4664 - val_categorical_accuracy: 0.8500\n",
      "Epoch 16/100\n",
      "27/27 [==============================] - ETA: 0s - loss: 0.2314 - categorical_accuracy: 0.9548\n",
      "Epoch 00016: saving model to model_init_conv3d_full_data_2021-05-2914_37_14.421621/model-00016-0.23140-0.95475-1.47937-0.61000.h5\n",
      "27/27 [==============================] - 88s 3s/step - loss: 0.2314 - categorical_accuracy: 0.9548 - val_loss: 1.4794 - val_categorical_accuracy: 0.6100\n",
      "Epoch 17/100\n",
      "27/27 [==============================] - ETA: 0s - loss: 0.2392 - categorical_accuracy: 0.9382\n",
      "Epoch 00017: saving model to model_init_conv3d_full_data_2021-05-2914_37_14.421621/model-00017-0.23919-0.93816-0.75013-0.72000.h5\n",
      "27/27 [==============================] - 88s 3s/step - loss: 0.2392 - categorical_accuracy: 0.9382 - val_loss: 0.7501 - val_categorical_accuracy: 0.7200\n",
      "Epoch 18/100\n",
      "27/27 [==============================] - ETA: 0s - loss: 0.2451 - categorical_accuracy: 0.9502\n",
      "Epoch 00018: saving model to model_init_conv3d_full_data_2021-05-2914_37_14.421621/model-00018-0.24509-0.95023-0.55010-0.77000.h5\n",
      "27/27 [==============================] - 95s 4s/step - loss: 0.2451 - categorical_accuracy: 0.9502 - val_loss: 0.5501 - val_categorical_accuracy: 0.7700\n",
      "Epoch 19/100\n",
      "27/27 [==============================] - ETA: 0s - loss: 0.1976 - categorical_accuracy: 0.9638\n",
      "Epoch 00019: saving model to model_init_conv3d_full_data_2021-05-2914_37_14.421621/model-00019-0.19763-0.96380-0.98906-0.70000.h5\n",
      "Restoring model weights from the end of the best epoch.\n",
      "27/27 [==============================] - 90s 3s/step - loss: 0.1976 - categorical_accuracy: 0.9638 - val_loss: 0.9891 - val_categorical_accuracy: 0.7000\n",
      "Epoch 00019: early stopping\n"
     ]
    }
   ],
   "source": [
    "history=conv3dmodel.fit_generator(train_generator, steps_per_epoch=steps_per_epoch, epochs=100, verbose=1, \n",
    "                                  callbacks=callbacks_list, validation_data=val_generator, \n",
    "                                  validation_steps=validation_steps, class_weight=None, workers=1, initial_epoch=0)"
   ]
  },
  {
   "cell_type": "code",
   "execution_count": 23,
   "metadata": {},
   "outputs": [
    {
     "data": {
      "image/png": "[encoded data removed]",
      "text/plain": [
       "<Figure size 576x576 with 2 Axes>"
      ]
     },
     "metadata": {
      "needs_background": "light"
     },
     "output_type": "display_data"
    }
   ],
   "source": [
    "acc = history.history['categorical_accuracy']\n",
    "val_acc = history.history['val_categorical_accuracy']\n",
    "\n",
    "loss = history.history['loss']\n",
    "val_loss = history.history['val_loss']\n",
    "\n",
    "epochs_range = range(len(history.history['categorical_accuracy']))\n",
    "\n",
    "plt.figure(figsize=(8, 8))\n",
    "plt.subplot(1, 2, 1)\n",
    "plt.plot(epochs_range, acc, label='Training Accuracy')\n",
    "plt.plot(epochs_range, val_acc, label='Validation Accuracy')\n",
    "plt.legend(loc='lower right')\n",
    "plt.title('Training and Validation Accuracy')\n",
    "\n",
    "plt.subplot(1, 2, 2)\n",
    "plt.plot(epochs_range, loss, label='Training Loss')\n",
    "plt.plot(epochs_range, val_loss, label='Validation Loss')\n",
    "plt.legend(loc='upper right')\n",
    "plt.title('Training and Validation Loss')\n",
    "plt.show()"
   ]
  },
  {
   "cell_type": "markdown",
   "metadata": {},
   "source": [
    "### The training above will give a good model. The best model should then be loaded in the next section to fine tune"
   ]
  },
  {
   "cell_type": "markdown",
   "metadata": {},
   "source": [
    "# Fine tuning\n",
    "- Load model with best val accuracy from above training\n",
    "- Reducing the learning rate from 0.001 to 0.00001\n",
    "- Removing the beta_1 and beta_2 params for Adam\n",
    "\n",
    "In roughly 15 epochs more we get the best model"
   ]
  },
  {
   "cell_type": "code",
   "execution_count": 17,
   "metadata": {},
   "outputs": [],
   "source": [
    "from keras.models import load_model"
   ]
  },
  {
   "cell_type": "code",
   "execution_count": 18,
   "metadata": {
    "id": "6KsEpRDfX7R2"
   },
   "outputs": [
    {
     "name": "stdout",
     "output_type": "stream",
     "text": [
      "Model: \"sequential\"\n",
      "_________________________________________________________________\n",
      "Layer (type)                 Output Shape              Param #   \n",
      "=================================================================\n",
      "conv3d (Conv3D)              (None, 15, 100, 100, 32)  800       \n",
      "_________________________________________________________________\n",
      "max_pooling3d (MaxPooling3D) (None, 7, 50, 50, 32)     0         \n",
      "_________________________________________________________________\n",
      "conv3d_1 (Conv3D)            (None, 7, 50, 50, 16)     4112      \n",
      "_________________________________________________________________\n",
      "max_pooling3d_1 (MaxPooling3 (None, 3, 25, 25, 16)     0         \n",
      "_________________________________________________________________\n",
      "conv3d_2 (Conv3D)            (None, 3, 25, 25, 8)      1032      \n",
      "_________________________________________________________________\n",
      "max_pooling3d_2 (MaxPooling3 (None, 1, 12, 12, 8)      0         \n",
      "_________________________________________________________________\n",
      "flatten (Flatten)            (None, 1152)              0         \n",
      "_________________________________________________________________\n",
      "dropout (Dropout)            (None, 1152)              0         \n",
      "_________________________________________________________________\n",
      "dense (Dense)                (None, 512)               590336    \n",
      "_________________________________________________________________\n",
      "batch_normalization (BatchNo (None, 512)               2048      \n",
      "_________________________________________________________________\n",
      "activation (Activation)      (None, 512)               0         \n",
      "_________________________________________________________________\n",
      "dropout_1 (Dropout)          (None, 512)               0         \n",
      "_________________________________________________________________\n",
      "dense_1 (Dense)              (None, 64)                32832     \n",
      "_________________________________________________________________\n",
      "batch_normalization_1 (Batch (None, 64)                256       \n",
      "_________________________________________________________________\n",
      "activation_1 (Activation)    (None, 64)                0         \n",
      "_________________________________________________________________\n",
      "dropout_2 (Dropout)          (None, 64)                0         \n",
      "_________________________________________________________________\n",
      "dense_2 (Dense)              (None, 5)                 325       \n",
      "=================================================================\n",
      "Total params: 631,741\n",
      "Trainable params: 630,589\n",
      "Non-trainable params: 1,152\n",
      "_________________________________________________________________\n"
     ]
    }
   ],
   "source": [
    "best_model_path = '' # Provide path to model with best val accuarcy from above training\n",
    "conv3dmodel = load_model(best_model_path)\n",
    "conv3dmodel.summary()"
   ]
  },
  {
   "cell_type": "markdown",
   "metadata": {},
   "source": [
    "Reduce lr from 0.001 to 0.00001 and remove beta_1 and beta_2 params"
   ]
  },
  {
   "cell_type": "code",
   "execution_count": 20,
   "metadata": {
    "colab": {
     "base_uri": "https://localhost:8080/"
    },
    "id": "9uZG-1-JX7R3",
    "outputId": "344bf534-3ee3-438e-cbbe-91b278c0560a",
    "scrolled": true
   },
   "outputs": [],
   "source": [
    "optimiser = optimizers.Adam(learning_rate=0.00001)\n",
    "loss = losses.CategoricalCrossentropy(from_logits=False)# False indicates we have used softmax and no normalisation required\n",
    "conv3dmodel.compile(optimizer=optimiser, loss=loss, metrics=['categorical_accuracy'])"
   ]
  },
  {
   "cell_type": "markdown",
   "metadata": {
    "id": "CcvNXjayX7R3"
   },
   "source": [
    "Let us create the `train_generator` and the `val_generator` which will be used in `.fit_generator`."
   ]
  },
  {
   "cell_type": "code",
   "execution_count": 21,
   "metadata": {
    "id": "DaSaw62yX7R3"
   },
   "outputs": [],
   "source": [
    "batch_size = 25\n",
    "fraction_total_data = 1.0\n",
    "train_generator = generator(train_path, train_doc, batch_size, fraction_total_data=fraction_total_data)\n",
    "val_generator = generator(val_path, val_doc, batch_size)"
   ]
  },
  {
   "cell_type": "code",
   "execution_count": 22,
   "metadata": {
    "colab": {
     "base_uri": "https://localhost:8080/"
    },
    "id": "4c_KXal6X7R4",
    "outputId": "f00b9561-6a57-4ea9-b2c1-1853c4fb521c"
   },
   "outputs": [
    {
     "name": "stdout",
     "output_type": "stream",
     "text": [
      "WARNING:tensorflow:`period` argument is deprecated. Please use `save_freq` to specify the frequency in number of batches seen.\n"
     ]
    }
   ],
   "source": [
    "curr_dt_time = datetime.datetime.now()\n",
    "model_name = 'model_init_conv3d_full_data' + '_' + str(curr_dt_time).replace(' ','').replace(':','_') + '/'\n",
    "    \n",
    "if not os.path.exists(model_name):\n",
    "    os.mkdir(model_name)\n",
    "        \n",
    "filepath = model_name + 'model-{epoch:05d}-{loss:.5f}-{categorical_accuracy:.5f}-{val_loss:.5f}-{val_categorical_accuracy:.5f}.h5'\n",
    "\n",
    "checkpoint = ModelCheckpoint(filepath, monitor='val_loss', verbose=1, save_best_only=False, save_weights_only=False, mode='auto', period=1)\n",
    "\n",
    "LR = ReduceLROnPlateau(monitor='val_loss', factor=0.5, patience=5, min_lr=0.000001)\n",
    "\n",
    "earlystop = EarlyStopping(monitor='val_categorical_accuracy', min_delta=1e-3, patience=6, verbose=1, mode='max', restore_best_weights=True)\n",
    "\n",
    "callbacks_list = [checkpoint, LR, earlystop]"
   ]
  },
  {
   "cell_type": "markdown",
   "metadata": {
    "id": "lQK1FAW8X7R4"
   },
   "source": [
    "The `steps_per_epoch` and `validation_steps` are used by `fit_generator` to decide the number of next() calls it need to make."
   ]
  },
  {
   "cell_type": "code",
   "execution_count": 23,
   "metadata": {
    "id": "rgFMmzAeX7R4"
   },
   "outputs": [],
   "source": [
    "if ((num_train_sequences * fraction_total_data) % batch_size) == 0:\n",
    "    steps_per_epoch = int((num_train_sequences * fraction_total_data)/batch_size)\n",
    "else:\n",
    "    steps_per_epoch = ((num_train_sequences * fraction_total_data)//batch_size) + 1\n",
    "\n",
    "if (num_val_sequences % batch_size) == 0:\n",
    "    validation_steps = int(num_val_sequences/batch_size)\n",
    "else:\n",
    "    validation_steps = (num_val_sequences //batch_size) + 1"
   ]
  },
  {
   "cell_type": "markdown",
   "metadata": {
    "id": "H1NChPIgX7R4"
   },
   "source": [
    "Let us now fit the model. This will start training the model and with the help of the checkpoints, you'll be able to save the model at the end of each epoch."
   ]
  },
  {
   "cell_type": "code",
   "execution_count": 24,
   "metadata": {
    "colab": {
     "base_uri": "https://localhost:8080/"
    },
    "id": "rVvmNJsHX7R4",
    "outputId": "8c2d12c7-2dc7-4533-a187-9bdce2d2838e"
   },
   "outputs": [
    {
     "name": "stdout",
     "output_type": "stream",
     "text": [
      "Epoch 1/100\n",
      "27/27 [==============================] - ETA: 0s - loss: 0.2564 - categorical_accuracy: 0.9367\n",
      "Epoch 00001: saving model to model_init_conv3d_full_data_2021-05-2915_16_31.110869/model-00001-0.25642-0.93665-0.42074-0.86000.h5\n",
      "27/27 [==============================] - 80s 3s/step - loss: 0.2564 - categorical_accuracy: 0.9367 - val_loss: 0.4207 - val_categorical_accuracy: 0.8600\n",
      "Epoch 2/100\n",
      "27/27 [==============================] - ETA: 0s - loss: 0.2793 - categorical_accuracy: 0.9231\n",
      "Epoch 00002: saving model to model_init_conv3d_full_data_2021-05-2915_16_31.110869/model-00002-0.27930-0.92308-0.39587-0.88000.h5\n",
      "27/27 [==============================] - 78s 3s/step - loss: 0.2793 - categorical_accuracy: 0.9231 - val_loss: 0.3959 - val_categorical_accuracy: 0.8800\n",
      "Epoch 3/100\n",
      "27/27 [==============================] - ETA: 0s - loss: 0.2651 - categorical_accuracy: 0.9351\n",
      "Epoch 00003: saving model to model_init_conv3d_full_data_2021-05-2915_16_31.110869/model-00003-0.26511-0.93514-0.39683-0.85000.h5\n",
      "27/27 [==============================] - 76s 3s/step - loss: 0.2651 - categorical_accuracy: 0.9351 - val_loss: 0.3968 - val_categorical_accuracy: 0.8500\n",
      "Epoch 4/100\n",
      "27/27 [==============================] - ETA: 0s - loss: 0.2202 - categorical_accuracy: 0.9382\n",
      "Epoch 00004: saving model to model_init_conv3d_full_data_2021-05-2915_16_31.110869/model-00004-0.22016-0.93816-0.31138-0.92000.h5\n",
      "27/27 [==============================] - 79s 3s/step - loss: 0.2202 - categorical_accuracy: 0.9382 - val_loss: 0.3114 - val_categorical_accuracy: 0.9200\n",
      "Epoch 5/100\n",
      "27/27 [==============================] - ETA: 0s - loss: 0.2731 - categorical_accuracy: 0.9442\n",
      "Epoch 00005: saving model to model_init_conv3d_full_data_2021-05-2915_16_31.110869/model-00005-0.27309-0.94419-0.33035-0.89000.h5\n",
      "27/27 [==============================] - 79s 3s/step - loss: 0.2731 - categorical_accuracy: 0.9442 - val_loss: 0.3304 - val_categorical_accuracy: 0.8900\n",
      "Epoch 6/100\n",
      "27/27 [==============================] - ETA: 0s - loss: 0.2008 - categorical_accuracy: 0.9563\n",
      "Epoch 00006: saving model to model_init_conv3d_full_data_2021-05-2915_16_31.110869/model-00006-0.20080-0.95626-0.30616-0.89000.h5\n",
      "27/27 [==============================] - 78s 3s/step - loss: 0.2008 - categorical_accuracy: 0.9563 - val_loss: 0.3062 - val_categorical_accuracy: 0.8900\n",
      "Epoch 7/100\n",
      "27/27 [==============================] - ETA: 0s - loss: 0.2121 - categorical_accuracy: 0.9653\n",
      "Epoch 00007: saving model to model_init_conv3d_full_data_2021-05-2915_16_31.110869/model-00007-0.21211-0.96531-0.28909-0.93000.h5\n",
      "27/27 [==============================] - 77s 3s/step - loss: 0.2121 - categorical_accuracy: 0.9653 - val_loss: 0.2891 - val_categorical_accuracy: 0.9300\n",
      "Epoch 8/100\n",
      "27/27 [==============================] - ETA: 0s - loss: 0.2221 - categorical_accuracy: 0.9548\n",
      "Epoch 00008: saving model to model_init_conv3d_full_data_2021-05-2915_16_31.110869/model-00008-0.22208-0.95475-0.38119-0.87000.h5\n",
      "27/27 [==============================] - 77s 3s/step - loss: 0.2221 - categorical_accuracy: 0.9548 - val_loss: 0.3812 - val_categorical_accuracy: 0.8700\n",
      "Epoch 9/100\n",
      "27/27 [==============================] - ETA: 0s - loss: 0.2207 - categorical_accuracy: 0.9457\n",
      "Epoch 00009: saving model to model_init_conv3d_full_data_2021-05-2915_16_31.110869/model-00009-0.22074-0.94570-0.30155-0.90000.h5\n",
      "27/27 [==============================] - 78s 3s/step - loss: 0.2207 - categorical_accuracy: 0.9457 - val_loss: 0.3016 - val_categorical_accuracy: 0.9000\n",
      "Epoch 10/100\n",
      "27/27 [==============================] - ETA: 0s - loss: 0.2431 - categorical_accuracy: 0.9321\n",
      "Epoch 00010: saving model to model_init_conv3d_full_data_2021-05-2915_16_31.110869/model-00010-0.24308-0.93213-0.25894-0.91000.h5\n",
      "27/27 [==============================] - 76s 3s/step - loss: 0.2431 - categorical_accuracy: 0.9321 - val_loss: 0.2589 - val_categorical_accuracy: 0.9100\n",
      "Epoch 11/100\n",
      "27/27 [==============================] - ETA: 0s - loss: 0.2189 - categorical_accuracy: 0.9653\n",
      "Epoch 00011: saving model to model_init_conv3d_full_data_2021-05-2915_16_31.110869/model-00011-0.21894-0.96531-0.22753-0.96000.h5\n",
      "27/27 [==============================] - 78s 3s/step - loss: 0.2189 - categorical_accuracy: 0.9653 - val_loss: 0.2275 - val_categorical_accuracy: 0.9600\n",
      "Epoch 12/100\n",
      "27/27 [==============================] - ETA: 0s - loss: 0.2258 - categorical_accuracy: 0.9593\n",
      "Epoch 00012: saving model to model_init_conv3d_full_data_2021-05-2915_16_31.110869/model-00012-0.22576-0.95928-0.27822-0.91000.h5\n",
      "27/27 [==============================] - 78s 3s/step - loss: 0.2258 - categorical_accuracy: 0.9593 - val_loss: 0.2782 - val_categorical_accuracy: 0.9100\n",
      "Epoch 13/100\n",
      "27/27 [==============================] - ETA: 0s - loss: 0.2247 - categorical_accuracy: 0.9517\n",
      "Epoch 00013: saving model to model_init_conv3d_full_data_2021-05-2915_16_31.110869/model-00013-0.22473-0.95173-0.29580-0.92000.h5\n",
      "27/27 [==============================] - 113s 4s/step - loss: 0.2247 - categorical_accuracy: 0.9517 - val_loss: 0.2958 - val_categorical_accuracy: 0.9200\n",
      "Epoch 14/100\n",
      "27/27 [==============================] - ETA: 0s - loss: 0.2074 - categorical_accuracy: 0.9593\n",
      "Epoch 00014: saving model to model_init_conv3d_full_data_2021-05-2915_16_31.110869/model-00014-0.20739-0.95928-0.28466-0.89000.h5\n",
      "27/27 [==============================] - 88s 3s/step - loss: 0.2074 - categorical_accuracy: 0.9593 - val_loss: 0.2847 - val_categorical_accuracy: 0.8900\n",
      "Epoch 15/100\n",
      "27/27 [==============================] - ETA: 0s - loss: 0.1875 - categorical_accuracy: 0.9623\n",
      "Epoch 00015: saving model to model_init_conv3d_full_data_2021-05-2915_16_31.110869/model-00015-0.18751-0.96229-0.27643-0.90000.h5\n",
      "27/27 [==============================] - 107s 4s/step - loss: 0.1875 - categorical_accuracy: 0.9623 - val_loss: 0.2764 - val_categorical_accuracy: 0.9000\n",
      "Epoch 16/100\n",
      "27/27 [==============================] - ETA: 0s - loss: 0.1768 - categorical_accuracy: 0.9638\n",
      "Epoch 00016: saving model to model_init_conv3d_full_data_2021-05-2915_16_31.110869/model-00016-0.17676-0.96380-0.24740-0.93000.h5\n",
      "27/27 [==============================] - 89s 3s/step - loss: 0.1768 - categorical_accuracy: 0.9638 - val_loss: 0.2474 - val_categorical_accuracy: 0.9300\n",
      "Epoch 17/100\n",
      "27/27 [==============================] - ETA: 0s - loss: 0.1982 - categorical_accuracy: 0.9623\n",
      "Epoch 00017: saving model to model_init_conv3d_full_data_2021-05-2915_16_31.110869/model-00017-0.19821-0.96229-0.29449-0.92000.h5\n",
      "Restoring model weights from the end of the best epoch.\n",
      "27/27 [==============================] - 78s 3s/step - loss: 0.1982 - categorical_accuracy: 0.9623 - val_loss: 0.2945 - val_categorical_accuracy: 0.9200\n",
      "Epoch 00017: early stopping\n"
     ]
    }
   ],
   "source": [
    "history=conv3dmodel.fit_generator(train_generator, steps_per_epoch=steps_per_epoch, epochs=100, verbose=1, \n",
    "                                  callbacks=callbacks_list, validation_data=val_generator, \n",
    "                                  validation_steps=validation_steps, class_weight=None, workers=1, initial_epoch=0)"
   ]
  },
  {
   "cell_type": "code",
   "execution_count": 25,
   "metadata": {},
   "outputs": [
    {
     "data": {
      "image/png": "[encoded data removed]",
      "text/plain": [
       "<Figure size 576x576 with 2 Axes>"
      ]
     },
     "metadata": {
      "needs_background": "light"
     },
     "output_type": "display_data"
    }
   ],
   "source": [
    "acc = history.history['categorical_accuracy']\n",
    "val_acc = history.history['val_categorical_accuracy']\n",
    "\n",
    "loss = history.history['loss']\n",
    "val_loss = history.history['val_loss']\n",
    "\n",
    "epochs_range = range(len(history.history['categorical_accuracy']))\n",
    "\n",
    "plt.figure(figsize=(8, 8))\n",
    "plt.subplot(1, 2, 1)\n",
    "plt.plot(epochs_range, acc, label='Training Accuracy')\n",
    "plt.plot(epochs_range, val_acc, label='Validation Accuracy')\n",
    "plt.legend(loc='lower right')\n",
    "plt.title('Training and Validation Accuracy')\n",
    "\n",
    "plt.subplot(1, 2, 2)\n",
    "plt.plot(epochs_range, loss, label='Training Loss')\n",
    "plt.plot(epochs_range, val_loss, label='Validation Loss')\n",
    "plt.legend(loc='upper right')\n",
    "plt.title('Training and Validation Loss')\n",
    "plt.show()"
   ]
  }
 ],
 "metadata": {
  "kernelspec": {
   "display_name": "Python 3",
   "language": "python",
   "name": "python3"
  },
  "language_info": {
   "codemirror_mode": {
    "name": "ipython",
    "version": 3
   },
   "file_extension": ".py",
   "mimetype": "text/x-python",
   "name": "python",
   "nbconvert_exporter": "python",
   "pygments_lexer": "ipython3",
   "version": "3.6.9"
  }
 },
 "nbformat": 4,
 "nbformat_minor": 4
}
